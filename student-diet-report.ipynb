{
 "cells": [
  {
   "cell_type": "markdown",
   "id": "fd15b77d-2474-4c32-a76c-e12fda8c3f90",
   "metadata": {
    "tags": []
   },
   "source": [
    "### MATH 340 201\n",
    "### Janice Chan\n",
    "### Tina Jia\n",
    "# UBC Student Meal Plan on a Budget\n",
    "\n",
    "Budgeting and calorie intake are very important factors for university students when making decisions on where to eat, as university tuition is costly, and calories are necessary to energize oneself in order to learn and study. Here at UBC, there is a Residence Meal Plan (RMP), which is mainly used by first-year students living on campus. However, it can be restricted for students who find it too expensive or want to customize what restaurants they eat at. Therefore, we design and solve a linear programming problem to create our own meal plan to optimize the calorie intake per dollar each day throughout the school year, with three meals from three different restaurants around UBC. This not only meets the calorie intake requirements for students, but is also more cost-efficient than the UBC RMP with price and restaurant exposure taken into account. \n",
    "\n",
    "In order to get the most calories while maintaining the budget, we maximize the calorie intake per dollar of meals daily. It is beneficial to have three meals: breakfast, lunch, and dinner every day. Since eating three meals from the same restaurant may not be tasteful over time, in our linear programming problem, no meals per day will come from the same restaurant. It is important to meet calorie intake as well as not to exceed it, so ensuring the meal plan does not exceed or fail to meet the daily calorie intake listed for the maximum or minimum intake of male and female students combined will provide the best general meal plan for UBC students. This also includes not being able to consume less than zero calories. According to eat right, adult womens’ daily calorie needs range from 1,600 to 2,200, while for adult men, it ranges from 2,000 to 3,200 per day<sup>1</sup>. Therefore, we set the general range of our diet plan to be within 1,600 to 3,200 calories per day.\n",
    "\n",
    "To compare against the UBC RMP, our meal plan includes restaurants that are within walking distance around the UBC Vancouver campus, without being restricted to the UBC RMP restaurants. Our meal plan also results in a daily cost that does not exceed the daily cost of the RMP over the period of a full school year. According to food.ubc.ca as of February 02, 2022, the total for a RMP across both school terms amounts to $5,579.72<sup>5</sup>. Since the 2022 winter school term spans from September 7, 2021, to April 8, 2022, we calculate the daily cost to be the cost of the meal plan spent over 213 days<sup>3</sup>. In order to plan the restaurants’ calorie intake, it is difficult to account for the varying calories and prices of different meals each restaurant offers. Thus, we find the average calorie intake and the average price of a meal from each restaurant from the entire (current) menu to represent the calorie intake and price of a meal for each restaurant. There are also various types of restaurants on campus, to which we restricted restaurants to be of the following (inside UBC campus and along University Blvd to be of walking distance to classes or on-campus):\n",
    "\n",
    "\n",
    "* Tim Hortons\n",
    "* Starbucks\n",
    "* Perugia Italian Caffe\n",
    "* Uncle Fatih’s pizza\n",
    "* A&W Canada \n",
    "* McDonalds\n",
    "* Gather\n",
    "* Triple O’s\n",
    "\n",
    "\n",
    "There was a restriction to restaurants that could be included in this project, as many restaurants do not disclose calorie information and some have non-fixed prices. Although we are restricting certain restaurants, just like the UBC RMP, it still provides more flexibility with various included and excluded restaurants from the UBC RMP. We did not include restaurants inside the Nest, food court stalls, and student or club-run restaurants due to varying prices and lack of information, as inconsistencies that would not be helpful for budgeting and thus excluded from our curated meal plan. An inconsistency we are ignoring menu items that are on the breakfast/brunch, soups/sides, and dessert/baked goods menu and restaurant hours, as student schedules and meal times are beyond our scope. We also do not include adjustments to menu items such as adding, removing, or substituting ingredients. Additionally, we exclude beverages, sides, and restaurants’ kid’s menus, as we create a university students’ diet for meals. We utilize resources, such as UBC Nutrislice<sup>4</sup>, which provides information for some UBC restaurants. Some restaurant pricing is also not fixed, for example, the UBC residence halls (Gather) have some prices where the amount of food you personally add to your plate determines the price. Instead, we calculate the average meal costs for those restaurants by calculating the average of fixed-price meals only.\n",
    "\n",
    "Finding a solution to our problem answers the optimal three meals to have at UBC to fulfill calorie intake, and to have meal costs over the school year to be less than that of the UBC RMP. The resulting solution benefits students’ meals and budgeting in order to fulfill the best diet (in terms of calories) and prices. Finding no solution suggests that the UBC RMP is a better deal for calorie intake per average cost and that students should utilize it!\n",
    "\n",
    "## Methods \n",
    "\n",
    "We performed all of our calculations through JupyterLab using Python. We created constant variables for the RMP cost and days in the school year to find the average daily cost of meals from the RMP, which we will compare our personalized meal plan with. This allows us to be able to easily change the values for future exploration if we, for example, want to compare between years and how the pricing may have changed. For each restaurant, we first collected all the menu items and its prices and calories to create a dictionary for each of the two. We collected the price and nutritional information from either the restaurant website directly, from menus uploaded on Google Maps as well as reaching out to restaurants directly to request calorie information, specifically. Then, we utilized the dictionary to calculate the average calories and cost, in order to compute the average cost per calorie for each restaurant. This provides the ability to easily add onto the dictionary for additional meals or include another dictionary for more restaurants if we wish to expand our options in future exploration. \n",
    "\n",
    "Utilizing the PuLP package, we constructed our maximizing optimization problem we wanted to solve. We wanted our linear problem variables to represent the three restaurants’ that we should visit for our three daily meals in our diet plan, where we can only visit once per day or not at all; different restaurants for each meal of the day. For our objective function, we want to maximize the calories per average cost in order to achieve our calorie intake for the most cost effective price. Optimizing our problem means that we’ll be able to solve for the three optimal restaurants’ average daily calories per average cost in order to determine which restaurants visit at each of our three meals for the best calories per average cost. Our constraints ensured to be within the calorie intake goals, where we are getting at least 1600 calories but no more than 3200 calories in total for the sum of all our calories in the meals. Another constraint added is to ensure that we are spending less than the UBC RMP, so we constrain the sum of the three  restaurants’ average costs to be no more than the average daily cost of meals from the RMP, which we created a variable for as mentioned. To ensure our optimal diet plan has three restaurants, we include a constraint so that the sum of restaurants we visit is three.\n",
    "\n",
    "Some examples of the restaurant dictionaries in our linear programming project: "
   ]
  },
  {
   "cell_type": "code",
   "execution_count": null,
   "id": "8ab5cbf7-1a4a-4d4b-bc17-fe713d4b0a1b",
   "metadata": {
    "tags": []
   },
   "outputs": [],
   "source": [
    "# Restaurant calories per dollar spent:\n",
    "# Tim Hortons\n",
    "tim_hortons_meals = ['Crispy Chicken Craveables', 'Roast Beef Craveables', 'Regular Caprese', \n",
    "                    'Regular Roast Beef & Cheddar Sub', 'Regular Turkey Bacon Club', 'Regular BLT', \n",
    "                    'Regular Ham & Cheddar Sub', 'Spicy Buffalo Chicken Wrap', 'Southwest Chicken Wrap', \n",
    "                    'Chicken Bacon Ranch Wrap', 'Chicken Wrap', 'Grilled Cheese Melt', 'Bacon Grilled Cheese Melt',\n",
    "                    'Turkey Melt', 'Ham Melt', 'Soup', 'Chili']\n",
    "tim_hortons_costs_menu = {'Crispy Chicken Craveables': 4.49, \n",
    "                          'Roast Beef Craveables': 4.49, \n",
    "                          'Regular Caprese': 4.99, \n",
    "                          'Regular Roast Beef & Cheddar Sub': 6.19, \n",
    "                          'Regular Turkey Bacon Club': 6.19, \n",
    "                          'Regular BLT': 5.49, \n",
    "                          'Regular Ham & Cheddar Sub': 5.39, \n",
    "                          'Spicy Buffalo Chicken Wrap': 6.39, \n",
    "                          'Southwest Chicken Wrap': 6.39, \n",
    "                          'Chicken Bacon Ranch Wrap': 6.39, \n",
    "                          'Chicken Wrap': 5.99, \n",
    "                          'Grilled Cheese Melt': 4.99, \n",
    "                          'Bacon Grilled Cheese Melt': 6.19,\n",
    "                          'Turkey Melt': 6.19, \n",
    "                          'Ham Melt': 6.19, \n",
    "                          'Soup': 3.79, \n",
    "                          'Chili': 5.29}\n",
    "# Gather (of those with given prices; not by weight)\n",
    "gather_meals = ['Alumni Burger', 'Classic Grilled Cheese', 'Marinated Portobello Burger',\n",
    "                'Butter Chicken', 'Butter Tofu', 'Crispy Cauliflower Taco',\n",
    "                'Hearty Tomato, Cumin & Black Bean Soup', 'Havana Bowl Chicken',\n",
    "                'Havana Bowl Tofu', 'Fresh Avocado and Ponzu Marinated Tofu Salad', 'Avocado Spinich Pasta']\n",
    "# Average calories of all meals\n",
    "gather_calories_menu = {'Alumni Burger': 590,\n",
    "                        'Classic Grilled Cheese': 570,\n",
    "                        'Marinated Portobello Burger': 550,\n",
    "                        'Butter Chicken': 1190,\n",
    "                        'Butter Tofu': 1170,\n",
    "                        'Crispy Cauliflower Taco': 270,\n",
    "                        'Hearty Tomato, Cumin & Black Bean Soup': 310,\n",
    "                        'Havana Bowl Chicken': 660,\n",
    "                        'Havana Bowl Tofu': 670,\n",
    "                        'Fresh Avocado and Ponzu Marinated Tofu Salad': 490,\n",
    "                        'Avocado Spinich Pasta': 1000}\n",
    "gather_calories = sum([gather_calories_menu[i] for i in gather_meals]) / len(gather_meals)\n",
    "# Average cost of all meals\n",
    "gather_cost_menu = {'Alumni Burger': 8.29,\n",
    "                    'Classic Grilled Cheese': 7.99,\n",
    "                    'Marinated Portobello Burger': 8.99,\n",
    "                    'Butter Chicken': 8.99,\n",
    "                    'Butter Tofu': 7.99,\n",
    "                    'Crispy Cauliflower Taco': 2.99,\n",
    "                    'Hearty Tomato, Cumin & Black Bean Soup': 3.10,\n",
    "                    'Havana Bowl Chicken': 8.99,\n",
    "                    'Havana Bowl Tofu': 7.99,\n",
    "                    'Fresh Avocado and Ponzu Marinated Tofu Salad': 8.99,\n",
    "                    'Avocado Spinich Pasta': 8.99}\n",
    "gather_cost = sum([gather_cost_menu[i] for i in gather_meals]) / len(gather_meals)"
   ]
  },
  {
   "cell_type": "markdown",
   "id": "4d4d95f5-4458-42d9-808b-6678d41081d1",
   "metadata": {},
   "source": [
    "Our objective function and constraints: "
   ]
  },
  {
   "cell_type": "code",
   "execution_count": null,
   "id": "2fd53877-00e9-418f-afaa-e4078ca697ff",
   "metadata": {
    "tags": []
   },
   "outputs": [],
   "source": [
    "# Objective Function \n",
    "prob += lpSum([(calories[r]/cost[r])*x[r] for r in Restaurants]) # maximize total restaurants average calorie intake per cost\n",
    "\n",
    "# Constraints: \n",
    "prob += lpSum([calories[r]*x[r] for r in Restaurants]) >= 1600 # meeting lowerbound of calorie intake requirement\n",
    "prob += lpSum([calories[r]*x[r] for r in Restaurants]) <= 3200 # not exceeding upperbound of calorie intake requirement\n",
    "prob += lpSum([cost[r]*x[r] for r in Restaurants]) <= rmp_daily # cost not exceeding that of the UBC RMP\n",
    "prob += lpSum([x[r] for r in Restaurants]) == 3 # 3 restuarants for 3 meals"
   ]
  },
  {
   "cell_type": "markdown",
   "id": "6fbefc03-d3ae-4ba6-9e76-460ca62da213",
   "metadata": {},
   "source": [
    "## Conclusion \n",
    "After performing the maximization problem on the restaurants in our dictionary, we found an optimal plan that the three restaurants that maximized the average calories per average cost of a meal are: Gather, Perugia Italian Caffe and Triple O’s. The average calories per cost are $\\$$89.68, $\\$$104.93, and $96.45 for Gather, Perugia Italian Caffe and Triple O’s, respectively. The average daily cost for eating at these three restaurants for the three meals of the day would be $\\$$24.31 with 2361.34 daily calories. This optimized amount exceeds the daily recommended amount women’s daily calories intake, but is in the middle range for the recommended amount for men’s daily calorie intake. Furthermore, we calculated that the student would save $\\$$1.89 everyday by eating at these three restaurants compared to the UBC RMP. If a student was to eat at these three restaurants everyday, they would spend $\\$$402.57 and save $\\$$5177.15 over the school year in total, when compared to the UBC RMP.  \n",
    "\n",
    "From the results of the maximization problem, it is shown that fast food restaurants such as McDonald’s, A&W, etc, were not the most optimal in terms of calories per most meals. Usually for students on a budget and wanting a quick meal, they would resort to a fast food restaurant on or near campus. However, we have shown better alternatives on campus in our linear programming problem that allows students to get the most out of their money in terms of calories.\n",
    "\n",
    "Thus, a budget-friendly student meal plan should be to eat their daily three meals at Gather, Perugia Italian Caffe, and Triple O’s in order to get their required calorie intake for the best budget that is less than the UBC RMP package, saving $\\$$5177.15 and spending a total of $\\$$402.57 for the school year.\n",
    "\n",
    "## Ways Forward \n",
    "Given that we created dictionaries for restaurants’ calories and cost for each menu, further implementations of menu items and even restaurants itself can be easily added without having to reformulate the linear programming problem in PuLP. The adaptability of the code allows others to expand and explore with possibly adding or updating new information to compare. In turn, more options for the student diet can expand better budgeting when attaining their diet goals for calories. Since we only included main meals from a restricted set of restaurants, including all meals such as breakfast meals may benefit options that were excluded. Performing the analysis for each meal may be beneficial in this aspect in order to cater to particular options of each specific meal type (breakfast, lunch, and dinner). This could include a calorie intake constraint on each meal, as studies show that having a larger lunch and smaller breakfast, followed by dinner is optimal for dividing calorie intake and sleep quality<sup>5</sup>. Further analysis of adding other nutritional information and constraints to meet those categories can further improve the student diet to be healthier. Nutritional information to add could be vitamins, iron, fat intake, etc. All these options of expanding will optimize and include more options for the student meal plan even more to create a better diet and budgeting plan.\n",
    "\n",
    "\n",
    "## References:\n",
    "<sup>1</sup> https://www.huffpost.com/entry/lunch-should-be-biggest-meal_l_601acb8fc5b668b8db3dd497 \\\n",
    "<sup>2</sup> https://www.eatright.org/food/nutrition/dietary-guidelines-and-myplate/how-many-calories-do-adults-need \\\n",
    "<sup>3</sup> https://food.ubc.ca/meal-plans/residence-meal-plan/ \\\n",
    "<sup>4</sup> https://www.calendar.ubc.ca/vancouver/index.cfm?page=deadlines \\\n",
    "<sup>5</sup> https://ubc.nutrislice.com/menu/"
   ]
  }
 ],
 "metadata": {
  "kernelspec": {
   "display_name": "Python 3 (ipykernel)",
   "language": "python",
   "name": "python3"
  },
  "language_info": {
   "codemirror_mode": {
    "name": "ipython",
    "version": 3
   },
   "file_extension": ".py",
   "mimetype": "text/x-python",
   "name": "python",
   "nbconvert_exporter": "python",
   "pygments_lexer": "ipython3",
   "version": "3.10.9"
  }
 },
 "nbformat": 4,
 "nbformat_minor": 5
}
